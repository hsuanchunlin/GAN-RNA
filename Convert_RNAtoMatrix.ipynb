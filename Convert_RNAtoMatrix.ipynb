{
  "nbformat": 4,
  "nbformat_minor": 0,
  "metadata": {
    "colab": {
      "name": "Copy of Copy of Convert_RNAtoMatrix-Copy1.ipynb",
      "version": "0.3.2",
      "provenance": [],
      "collapsed_sections": []
    },
    "kernelspec": {
      "name": "python3",
      "display_name": "Python 3"
    }
  },
  "cells": [
    {
      "cell_type": "markdown",
      "metadata": {
        "id": "WcKVzdySRYZo",
        "colab_type": "text"
      },
      "source": [
        "# Convert RNA into Character Table Matrix - 4 category\n",
        "## Import necessary package and mount google drive"
      ]
    },
    {
      "cell_type": "code",
      "metadata": {
        "id": "MMFInIM4RYZ8",
        "colab_type": "code",
        "outputId": "ce12b9f4-6b88-472b-8db8-2d16a6b20c3b",
        "colab": {
          "base_uri": "https://localhost:8080/",
          "height": 122
        }
      },
      "source": [
        "import numpy as np\n",
        "import glob\n",
        "import os\n",
        "import seaborn as sns\n",
        "from google.colab import drive\n",
        "drive.mount('/content/drive')"
      ],
      "execution_count": 1,
      "outputs": [
        {
          "output_type": "stream",
          "text": [
            "Go to this URL in a browser: https://accounts.google.com/o/oauth2/auth?client_id=947318989803-6bn6qk8qdgf4n4g3pfee6491hc0brc4i.apps.googleusercontent.com&redirect_uri=urn%3Aietf%3Awg%3Aoauth%3A2.0%3Aoob&scope=email%20https%3A%2F%2Fwww.googleapis.com%2Fauth%2Fdocs.test%20https%3A%2F%2Fwww.googleapis.com%2Fauth%2Fdrive%20https%3A%2F%2Fwww.googleapis.com%2Fauth%2Fdrive.photos.readonly%20https%3A%2F%2Fwww.googleapis.com%2Fauth%2Fpeopleapi.readonly&response_type=code\n",
            "\n",
            "Enter your authorization code:\n",
            "··········\n",
            "Mounted at /content/drive\n"
          ],
          "name": "stdout"
        }
      ]
    },
    {
      "cell_type": "code",
      "metadata": {
        "id": "n7Auf9W0Rri7",
        "colab_type": "code",
        "colab": {}
      },
      "source": [
        "s = glob.glob('/content/drive/My Drive/Colab Notebooks/*')\n",
        "#Test if mounted successful"
      ],
      "execution_count": 0,
      "outputs": []
    },
    {
      "cell_type": "markdown",
      "metadata": {
        "id": "f4wBldwSRYaZ",
        "colab_type": "text"
      },
      "source": [
        "## Prepare the sequence file and setup the converting function"
      ]
    },
    {
      "cell_type": "code",
      "metadata": {
        "id": "MHMNCBVkRYab",
        "colab_type": "code",
        "colab": {}
      },
      "source": [
        "def generate_RNATable(sequence):\n",
        "    symbols = ['A','C','G','U']\n",
        "    Special_symbols = ['R','Y','K','M','S','W','B','D','H','V','N']\n",
        "    Special_Loc = ['G','C','G','A','G','A','G','G','A','G','A']\n",
        "    total = []\n",
        "    for i in sequence:\n",
        "        seq_mat = [0,0,0,0]\n",
        "        if i in symbols:\n",
        "            seq_mat[symbols.index(i)] = 1\n",
        "        elif i in Special_symbols:\n",
        "            convert_chr = Special_Loc[Special_symbols.index(i)]\n",
        "            seq_mat[symbols.index(convert_chr)] = 1\n",
        "        else:\n",
        "            seq_mat[0] = 1\n",
        "        total.append(seq_mat)\n",
        "    return(total)"
      ],
      "execution_count": 0,
      "outputs": []
    },
    {
      "cell_type": "code",
      "metadata": {
        "id": "gtiwgLE7RYah",
        "colab_type": "code",
        "outputId": "0ae42a4a-8061-45ef-af6f-bd30ea4e299a",
        "colab": {
          "base_uri": "https://localhost:8080/",
          "height": 34
        }
      },
      "source": [
        "with open('/content/drive/My Drive/Colab Notebooks/hairpin.fa', 'r') as f:\n",
        "    measure = []\n",
        "    symbols = ['A','C','G','U']\n",
        "    while(True):\n",
        "        inputs = f.readline()\n",
        "        inputs = inputs.strip()\n",
        "        if not inputs:\n",
        "            break\n",
        "        if inputs[0] is not \">\":\n",
        "          if len(inputs) < 70:\n",
        "            measure.append(len(inputs))\n",
        "len(measure)"
      ],
      "execution_count": 4,
      "outputs": [
        {
          "output_type": "execute_result",
          "data": {
            "text/plain": [
              "81527"
            ]
          },
          "metadata": {
            "tags": []
          },
          "execution_count": 4
        }
      ]
    },
    {
      "cell_type": "code",
      "metadata": {
        "id": "T1RiTXrDRYa5",
        "colab_type": "code",
        "outputId": "bc30b9a9-4fad-4665-b26d-1d70d3fdf274",
        "colab": {
          "base_uri": "https://localhost:8080/",
          "height": 286
        }
      },
      "source": [
        "import pandas as pd\n",
        "p = np.array(measure)\n",
        "p.max()\n",
        "sns.distplot(p)\n",
        "#sns.distplot(p, kde=False, rug=True)\n",
        "pand = pd.Series(p)\n",
        "pand.plot.hist(grid=True, bins=20)"
      ],
      "execution_count": 5,
      "outputs": [
        {
          "output_type": "execute_result",
          "data": {
            "text/plain": [
              "<matplotlib.axes._subplots.AxesSubplot at 0x7f433fbce0f0>"
            ]
          },
          "metadata": {
            "tags": []
          },
          "execution_count": 5
        },
        {
          "output_type": "display_data",
          "data": {
            "image/png": "[encoded data removed]",
            "text/plain": [
              "<Figure size 432x288 with 1 Axes>"
            ]
          },
          "metadata": {
            "tags": []
          }
        }
      ]
    },
    {
      "cell_type": "code",
      "metadata": {
        "id": "7vrb9mkQXp08",
        "colab_type": "code",
        "colab": {}
      },
      "source": [
        ""
      ],
      "execution_count": 0,
      "outputs": []
    },
    {
      "cell_type": "code",
      "metadata": {
        "id": "rDvuxxpmRYbL",
        "colab_type": "code",
        "outputId": "9e27881e-e4e7-4813-ad08-337d7e95ccf5",
        "colab": {
          "base_uri": "https://localhost:8080/",
          "height": 36
        }
      },
      "source": [
        "test = []\n",
        "with open('/content/drive/My Drive/Colab Notebooks/hairpin.fa', 'r') as f:\n",
        "    while(True):\n",
        "        inputs = f.readline()\n",
        "        inputs = inputs.strip() #remove \\n\n",
        "        if not inputs:\n",
        "            break\n",
        "        if inputs[0] != '>' and len(inputs) == 60:\n",
        "            length = len(inputs)\n",
        "            rounds = p.max() - length\n",
        "            table = generate_RNATable(inputs)\n",
        "            #add extra matrix\n",
        "            for j in np.arange(rounds):\n",
        "                table.append([0,0,0,0])\n",
        "            test.append(table)\n",
        "print(\"The symbols matrix are:\", symbols)"
      ],
      "execution_count": 0,
      "outputs": [
        {
          "output_type": "stream",
          "text": [
            "The symbols matrix are: ['A', 'C', 'G', 'U']\n"
          ],
          "name": "stdout"
        }
      ]
    },
    {
      "cell_type": "code",
      "metadata": {
        "id": "3AjjXSBCRYbS",
        "colab_type": "code",
        "outputId": "8f7062e5-6cbf-480e-c398-d7c56cd36189",
        "colab": {
          "base_uri": "https://localhost:8080/",
          "height": 1149
        }
      },
      "source": [
        "test[0]"
      ],
      "execution_count": 0,
      "outputs": [
        {
          "output_type": "execute_result",
          "data": {
            "text/plain": [
              "[[0, 0, 0, 1],\n",
              " [1, 0, 0, 0],\n",
              " [0, 1, 0, 0],\n",
              " [1, 0, 0, 0],\n",
              " [0, 1, 0, 0],\n",
              " [0, 0, 0, 1],\n",
              " [0, 0, 1, 0],\n",
              " [0, 0, 0, 1],\n",
              " [0, 0, 1, 0],\n",
              " [0, 0, 1, 0],\n",
              " [1, 0, 0, 0],\n",
              " [0, 0, 0, 1],\n",
              " [0, 1, 0, 0],\n",
              " [0, 1, 0, 0],\n",
              " [0, 0, 1, 0],\n",
              " [0, 0, 1, 0],\n",
              " [0, 0, 0, 1],\n",
              " [0, 0, 1, 0],\n",
              " [1, 0, 0, 0],\n",
              " [0, 0, 1, 0],\n",
              " [0, 0, 1, 0],\n",
              " [0, 0, 0, 1],\n",
              " [1, 0, 0, 0],\n",
              " [0, 0, 1, 0],\n",
              " [0, 0, 0, 1],\n",
              " [1, 0, 0, 0],\n",
              " [0, 0, 1, 0],\n",
              " [0, 0, 1, 0],\n",
              " [0, 0, 0, 1],\n",
              " [0, 0, 0, 1],\n",
              " [0, 0, 1, 0],\n",
              " [0, 0, 0, 1],\n",
              " [1, 0, 0, 0],\n",
              " [0, 0, 0, 1],\n",
              " [1, 0, 0, 0],\n",
              " [0, 0, 1, 0],\n",
              " [0, 0, 0, 1],\n",
              " [0, 0, 0, 1],\n",
              " [0, 0, 0, 1],\n",
              " [0, 0, 1, 0],\n",
              " [0, 0, 1, 0],\n",
              " [1, 0, 0, 0],\n",
              " [1, 0, 0, 0],\n",
              " [0, 0, 0, 1],\n",
              " [1, 0, 0, 0],\n",
              " [0, 0, 0, 1],\n",
              " [0, 0, 0, 1],\n",
              " [1, 0, 0, 0],\n",
              " [0, 1, 0, 0],\n",
              " [0, 1, 0, 0],\n",
              " [1, 0, 0, 0],\n",
              " [0, 1, 0, 0],\n",
              " [0, 1, 0, 0],\n",
              " [0, 0, 1, 0],\n",
              " [0, 0, 1, 0],\n",
              " [0, 0, 0, 1],\n",
              " [0, 0, 1, 0],\n",
              " [1, 0, 0, 0],\n",
              " [1, 0, 0, 0],\n",
              " [0, 1, 0, 0]]"
            ]
          },
          "metadata": {
            "tags": []
          },
          "execution_count": 50
        }
      ]
    },
    {
      "cell_type": "code",
      "metadata": {
        "id": "ZoJhpGV8RYbg",
        "colab_type": "code",
        "colab": {}
      },
      "source": [
        "matrix_hairpin = np.array(test)\n",
        "#save numpy obj\n",
        "np.save('/content/drive/My Drive/Colab Notebooks/table_hairpin60_s', matrix_hairpin)"
      ],
      "execution_count": 0,
      "outputs": []
    }
  ]
}